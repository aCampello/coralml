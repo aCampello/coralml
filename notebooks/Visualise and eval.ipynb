{
 "cells": [
  {
   "cell_type": "code",
   "execution_count": null,
   "metadata": {},
   "outputs": [],
   "source": [
    "%load_ext autoreload\n",
    "%autoreload 2\n",
    "\n",
    "from coralml.visualisation.visualisation import plot_data\n",
    "from coralml.constants import mapping"
   ]
  },
  {
   "cell_type": "code",
   "execution_count": null,
   "metadata": {},
   "outputs": [],
   "source": [
    "from ds_toolbox import pretty_notebook\n",
    "\n",
    "pretty_notebook()"
   ]
  },
  {
   "cell_type": "code",
   "execution_count": null,
   "metadata": {},
   "outputs": [],
   "source": [
    "import cv2"
   ]
  },
  {
   "cell_type": "code",
   "execution_count": null,
   "metadata": {},
   "outputs": [],
   "source": [
    "colour_mapping = mapping.get_colour_mapping('../data')"
   ]
  },
  {
   "cell_type": "code",
   "execution_count": null,
   "metadata": {},
   "outputs": [],
   "source": [
    "colour_mapping"
   ]
  },
  {
   "cell_type": "code",
   "execution_count": null,
   "metadata": {},
   "outputs": [],
   "source": [
    "name_to_colour = {'c_hard_coral_branching': (245, 185, 95),\n",
    " 'c_hard_coral_submassive': (0, 0, 0),\n",
    " 'c_hard_coral_boulder': (65, 50, 230),\n",
    " 'c_hard_coral_encrusting': (73, 74, 74),\n",
    " 'c_hard_coral_table': (78, 252, 5),\n",
    " 'c_hard_coral_foliose': (186, 153, 255),\n",
    " 'c_hard_coral_mushroom': (200, 103, 5),\n",
    " 'c_soft_coral': (198, 5, 252),\n",
    " 'c_soft_coral_gorgonian': (84, 194, 27),\n",
    " 'c_sponge': (20, 145, 245),\n",
    " 'c_sponge_barrel': (16, 133, 16),\n",
    " 'c_fire_coral_millepora': (190, 234, 98),\n",
    " 'c_algae_macro_or_leaves': (255, 233, 72)}"
   ]
  },
  {
   "cell_type": "code",
   "execution_count": null,
   "metadata": {},
   "outputs": [],
   "source": [
    "number_to_colour = {number: name_to_colour.get(name, (0, 0,0 )) for name, number in colour_mapping.items()}"
   ]
  },
  {
   "cell_type": "code",
   "execution_count": null,
   "metadata": {},
   "outputs": [],
   "source": [
    "colour_mapping"
   ]
  },
  {
   "cell_type": "markdown",
   "metadata": {},
   "source": [
    "### Reads images and masks"
   ]
  },
  {
   "cell_type": "code",
   "execution_count": null,
   "metadata": {},
   "outputs": [],
   "source": [
    "im = cv2.imread('../data/images_val/02_2017_0803_132449_044.jpg')\n",
    "im = cv2.cvtColor(im, cv2.COLOR_BGR2RGB)\n",
    "gt_mask = cv2.imread('../data/masks_val/02_2017_0803_132449_044_mask.png')\n",
    "gt_mask = cv2.cvtColor(gt_mask, cv2.COLOR_BGR2RGB)"
   ]
  },
  {
   "cell_type": "code",
   "execution_count": null,
   "metadata": {},
   "outputs": [],
   "source": [
    "gt_mask = cv2.cvtColor(gt_mask, cv2.COLOR_BGR2RGB)"
   ]
  },
  {
   "cell_type": "code",
   "execution_count": null,
   "metadata": {},
   "outputs": [],
   "source": [
    "import matplotlib.pyplot as plt"
   ]
  },
  {
   "cell_type": "code",
   "execution_count": null,
   "metadata": {},
   "outputs": [],
   "source": [
    "im2 = im"
   ]
  },
  {
   "cell_type": "code",
   "execution_count": null,
   "metadata": {},
   "outputs": [],
   "source": [
    "non_zero = np.where(gt_mask[:, :, 0] != 0)\n",
    "gt_mask[non_zero] = np.array([number_to_colour[x[0]] for x in gt_mask[non_zero]])"
   ]
  },
  {
   "cell_type": "code",
   "execution_count": null,
   "metadata": {},
   "outputs": [],
   "source": [
    "gt_mask[non_zero]"
   ]
  },
  {
   "cell_type": "code",
   "execution_count": null,
   "metadata": {},
   "outputs": [],
   "source": [
    "im3 = cv2.addWeighted(im2, 1, gt_mask, 0.8, 0)"
   ]
  },
  {
   "cell_type": "code",
   "execution_count": null,
   "metadata": {},
   "outputs": [],
   "source": [
    "plt.figure(figsize=(20, 20))\n",
    "plt.imshow(im3)\n",
    "plt.grid(False)"
   ]
  },
  {
   "cell_type": "markdown",
   "metadata": {},
   "source": [
    "## Evaluate"
   ]
  },
  {
   "cell_type": "code",
   "execution_count": null,
   "metadata": {},
   "outputs": [],
   "source": [
    "from coralml.ml.evaluate import evaluate"
   ]
  },
  {
   "cell_type": "code",
   "execution_count": null,
   "metadata": {},
   "outputs": [],
   "source": [
    "from coralml.ml.utils import load_model"
   ]
  },
  {
   "cell_type": "code",
   "execution_count": null,
   "metadata": {},
   "outputs": [],
   "source": [
    "    model = load_model('../models/test_model/model_best.pth')"
   ]
  },
  {
   "cell_type": "code",
   "execution_count": null,
   "metadata": {},
   "outputs": [],
   "source": [
    "model"
   ]
  },
  {
   "cell_type": "code",
   "execution_count": null,
   "metadata": {},
   "outputs": [],
   "source": [
    "evaluate(image_file_paths=['../data/images_val/02_2017_0803_132446_043.jpg'], \n",
    "         gt_file_paths=['../data/masks_val/02_2017_0803_132446_043_mask.png'],\n",
    "         model=model,\n",
    "         num_classes=14,\n",
    "         nn_input_size=256,\n",
    "         window_sizes=[300],\n",
    "         step_sizes=[300])"
   ]
  },
  {
   "cell_type": "code",
   "execution_count": null,
   "metadata": {},
   "outputs": [],
   "source": [
    "gt_file_paths=['../data/masks_val/02_2017_0803_132446_043_mask.png']"
   ]
  },
  {
   "cell_type": "code",
   "execution_count": null,
   "metadata": {},
   "outputs": [],
   "source": [
    "from coralml.ml import predict"
   ]
  },
  {
   "cell_type": "code",
   "execution_count": null,
   "metadata": {},
   "outputs": [],
   "source": [
    "pred = predict.predict(image_file_paths=['../data/images_val/02_2017_0803_132446_043.jpg', '../data/images_val/02_2017_0803_132449_044.jpg'], \n",
    "                       model=model,\n",
    "                       nn_input_size=256,\n",
    "                       window_sizes=[300],\n",
    "                       step_sizes=[300])"
   ]
  },
  {
   "cell_type": "code",
   "execution_count": null,
   "metadata": {},
   "outputs": [],
   "source": [
    "from coralml.ml.utils import colour_mask_to_class_id_mask"
   ]
  },
  {
   "cell_type": "code",
   "execution_count": null,
   "metadata": {},
   "outputs": [],
   "source": [
    "pred_class_id_mask = np.argmax(pred[0], axis=-1)\n",
    "gt_colour_mask = cv2.imread(gt_file_paths[0])[:, :, 0]\n",
    "gt_class_id_mask = colour_mask_to_class_id_mask(gt_colour_mask)"
   ]
  },
  {
   "cell_type": "code",
   "execution_count": null,
   "metadata": {},
   "outputs": [],
   "source": [
    "classes_map = {x: y for x, y in enumerate(sorted(colour_mapping.keys()))}"
   ]
  },
  {
   "cell_type": "code",
   "execution_count": null,
   "metadata": {},
   "outputs": [],
   "source": [
    "pred_class_id_mask"
   ]
  },
  {
   "cell_type": "code",
   "execution_count": null,
   "metadata": {},
   "outputs": [],
   "source": [
    "def calculate_agreement(pixel_image_1, pixel_image_2, substrate_idx=None):\n",
    "    \"\"\"\n",
    "    Given two images containing pixel annotations, calculates agreement.\n",
    "    If a substrate_idx is provided, calculates IoU over that substrate,\n",
    "    otherwise calculates pixel accuracy\n",
    "    \n",
    "    Args:\n",
    "        pixel_image_1: a numpy array  \n",
    "        pixel_image_2: a numpy array\n",
    "        substrate_idx: a valid substrate index\n",
    "    Returns:\n",
    "        Agreement metric (accuracy or IoU)\n",
    "    \"\"\"\n",
    "\n",
    "    intersection = ((pixel_image_1 == substrate_idx) *\n",
    "                    (pixel_image_2 == substrate_idx)).sum()\n",
    "\n",
    "    union = ((pixel_image_1 == substrate_idx) +\n",
    "             (pixel_image_2 == substrate_idx)).sum()\n",
    "\n",
    "    # If there is no pixels with that class, IoU is undefined\n",
    "    return intersection, union"
   ]
  },
  {
   "cell_type": "code",
   "execution_count": null,
   "metadata": {},
   "outputs": [],
   "source": [
    "for i in classes_map.keys():\n",
    "    calculate_agreement(gt_class_id_mask, pred_class_id_mask, substrate_idx=12)"
   ]
  },
  {
   "cell_type": "code",
   "execution_count": null,
   "metadata": {},
   "outputs": [],
   "source": [
    "classes_map"
   ]
  },
  {
   "cell_type": "code",
   "execution_count": null,
   "metadata": {},
   "outputs": [],
   "source": [
    "from collections import defaultdict"
   ]
  },
  {
   "cell_type": "code",
   "execution_count": null,
   "metadata": {},
   "outputs": [],
   "source": [
    "def calculate_iou_metrics_run(gt_list, pred_list, classes_map):\n",
    "    \"\"\"Given datasets (predicted and gt) for pixel annotations, returns IoU\"\"\"\n",
    "    intersection_per_substrate = defaultdict(int)\n",
    "    union_per_substrate = defaultdict(int)\n",
    "\n",
    "    for gt, pred in zip(gt_list, pred_list):\n",
    "        for substrate_idx, substrate_name in classes_map.items():\n",
    "            intersection, union = \\\n",
    "                calculate_agreement(gt, pred, substrate_idx=substrate_idx)\n",
    "            if union:\n",
    "                intersection_per_substrate[substrate_name] += intersection\n",
    "                union_per_substrate[substrate_name] += union\n",
    "\n",
    "    eps = 10e-16\n",
    "    # Ads epsilon to the denominator to avoid division by zero\n",
    "    iou_per_substrate = {\n",
    "        substrate_name: intersection_per_substrate[substrate_name] /\n",
    "                        (union_per_substrate[substrate_name] + eps)\n",
    "        for substrate_name in classes_map.values()\n",
    "    }\n",
    "\n",
    "    iou_average = sum(intersection_per_substrate.values()) / \\\n",
    "                  sum(union_per_substrate.values())\n",
    "\n",
    "    return iou_per_substrate, iou_average"
   ]
  },
  {
   "cell_type": "code",
   "execution_count": null,
   "metadata": {},
   "outputs": [],
   "source": [
    "calculate_iou_metrics_run([gt_class_id_mask], [pred_class_id_mask])"
   ]
  },
  {
   "cell_type": "code",
   "execution_count": null,
   "metadata": {},
   "outputs": [],
   "source": [
    "from coralml.ml import evaluate_clef"
   ]
  },
  {
   "cell_type": "code",
   "execution_count": null,
   "metadata": {},
   "outputs": [],
   "source": [
    "%%time\n",
    "\n",
    "iou_per_substrate, iou_average = evaluate_clef.evaluate(\n",
    "    model_path='../models/test_model/model_best.pth',\n",
    "    image_file_paths=['../data/images_val/02_2017_0803_132446_043.jpg', \n",
    "                      '../data/images_val/02_2017_0803_132449_044.jpg'], \n",
    "    gt_file_paths=['../data/masks_val/02_2017_0803_132446_043_mask.png', \n",
    "                   '../data/masks_val/02_2017_0803_132449_044_mask.png'],\n",
    "    nn_input_size=256, window_sizes=[500], step_sizes=[400])"
   ]
  },
  {
   "cell_type": "code",
   "execution_count": null,
   "metadata": {},
   "outputs": [],
   "source": [
    "import os"
   ]
  },
  {
   "cell_type": "code",
   "execution_count": null,
   "metadata": {},
   "outputs": [],
   "source": [
    "masks_dir = os.listdir('../data/masks_val')\n",
    "images = [x for x in os.listdir('../data/images_val/')]\n",
    "masks = [x.split('.')[0] + '_mask.png' for x in images]"
   ]
  },
  {
   "cell_type": "code",
   "execution_count": null,
   "metadata": {},
   "outputs": [],
   "source": [
    "len(set(masks_dir).intersection(masks))"
   ]
  },
  {
   "cell_type": "code",
   "execution_count": null,
   "metadata": {},
   "outputs": [],
   "source": [
    "# masksdir"
   ]
  },
  {
   "cell_type": "code",
   "execution_count": null,
   "metadata": {},
   "outputs": [],
   "source": [
    "iou_average"
   ]
  },
  {
   "cell_type": "code",
   "execution_count": null,
   "metadata": {},
   "outputs": [],
   "source": []
  }
 ],
 "metadata": {
  "kernelspec": {
   "display_name": "Python 3",
   "language": "python",
   "name": "python3"
  },
  "language_info": {
   "codemirror_mode": {
    "name": "ipython",
    "version": 3
   },
   "file_extension": ".py",
   "mimetype": "text/x-python",
   "name": "python",
   "nbconvert_exporter": "python",
   "pygments_lexer": "ipython3",
   "version": "3.7.6"
  }
 },
 "nbformat": 4,
 "nbformat_minor": 4
}
